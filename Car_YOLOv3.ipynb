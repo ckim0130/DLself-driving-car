{
  "nbformat": 4,
  "nbformat_minor": 0,
  "metadata": {
    "accelerator": "GPU",
    "colab": {
      "provenance": [],
      "machine_shape": "hm",
      "authorship_tag": "ABX9TyMckdzBRCIr345I8VYiUGLr",
      "include_colab_link": true
    },
    "kernelspec": {
      "display_name": "Python 3",
      "name": "python3"
    },
    "language_info": {
      "name": "python"
    }
  },
  "cells": [
    {
      "cell_type": "markdown",
      "metadata": {
        "id": "view-in-github",
        "colab_type": "text"
      },
      "source": [
        "<a href=\"https://colab.research.google.com/github/ckim0130/DLself-driving-car-/blob/main/Car_YOLOv3.ipynb\" target=\"_parent\"><img src=\"https://colab.research.google.com/assets/colab-badge.svg\" alt=\"Open In Colab\"/></a>"
      ]
    },
    {
      "cell_type": "code",
      "metadata": {
        "colab": {
          "base_uri": "https://localhost:8080/"
        },
        "id": "G6YPKfS1cTyE",
        "outputId": "fb640704-40cb-48e9-da61-c323f580df2c"
      },
      "source": [
        "# clone darknet repo\n",
        "!git clone https://github.com/AlexeyAB/darknet/"
      ],
      "execution_count": null,
      "outputs": [
        {
          "output_type": "stream",
          "text": [
            "Cloning into 'darknet'...\n",
            "remote: Enumerating objects: 15043, done.\u001b[K\n",
            "remote: Counting objects: 100% (41/41), done.\u001b[K\n",
            "remote: Compressing objects: 100% (32/32), done.\u001b[K\n",
            "remote: Total 15043 (delta 14), reused 20 (delta 8), pack-reused 15002\u001b[K\n",
            "Receiving objects: 100% (15043/15043), 13.47 MiB | 16.34 MiB/s, done.\n",
            "Resolving deltas: 100% (10213/10213), done.\n"
          ],
          "name": "stdout"
        }
      ]
    },
    {
      "cell_type": "code",
      "metadata": {
        "colab": {
          "base_uri": "https://localhost:8080/"
        },
        "id": "VOvXB1ZocbV0",
        "outputId": "99721882-d095-4846-e9b2-400a44459c4c"
      },
      "source": [
        "# change makefile to have GPU and OPENCV enabled\n",
        "%cd darknet\n",
        "!sed -i 's/OPENCV=0/OPENCV=1/' Makefile\n",
        "!sed -i 's/GPU=0/GPU=1/' Makefile\n",
        "!sed -i 's/CUDNN=0/CUDNN=1/' Makefile\n",
        "# if you wanna make libdarknet.so\n",
        "#!sed -i 's/LIBSO=0/LIBSO=1/' Makefile"
      ],
      "execution_count": null,
      "outputs": [
        {
          "output_type": "stream",
          "text": [
            "/content/darknet\n"
          ],
          "name": "stdout"
        }
      ]
    },
    {
      "cell_type": "code",
      "metadata": {
        "id": "UTxkDasHciK3"
      },
      "source": [
        "# make darknet (build)\n",
        "!make"
      ],
      "execution_count": null,
      "outputs": []
    },
    {
      "cell_type": "code",
      "metadata": {
        "colab": {
          "base_uri": "https://localhost:8080/"
        },
        "id": "O8AYIIERcxrX",
        "outputId": "1292fbb9-2294-447e-d8fb-9ac0e50ed222"
      },
      "source": [
        "from google.colab import drive\n",
        "drive.mount('/content/drive')"
      ],
      "execution_count": null,
      "outputs": [
        {
          "output_type": "stream",
          "text": [
            "Mounted at /content/drive\n"
          ],
          "name": "stdout"
        }
      ]
    },
    {
      "cell_type": "code",
      "metadata": {
        "id": "QzObtupZc1tI"
      },
      "source": [
        "# this creates a symbolic link so that now the path /content/gdrive/My\\ Drive/ is equal to /mydrive\n",
        "!ln -s /content/drive/MyDrive/ /mydrive\n",
        "!ls /mydrive\n"
      ],
      "execution_count": null,
      "outputs": []
    },
    {
      "cell_type": "code",
      "metadata": {
        "id": "mrgz8i_TfWiS"
      },
      "source": [
        "import tensorflow as tf\n",
        "import matplotlib.pyplot as plt\n",
        "import numpy as np\n",
        "import cv2"
      ],
      "execution_count": null,
      "outputs": []
    },
    {
      "cell_type": "code",
      "metadata": {
        "colab": {
          "base_uri": "https://localhost:8080/"
        },
        "id": "fo7JHFmd9NMd",
        "outputId": "bbbf0c42-9189-4ad8-e3d3-f3d094f6b1e4"
      },
      "source": [
        "cd /content"
      ],
      "execution_count": null,
      "outputs": [
        {
          "output_type": "stream",
          "text": [
            "/content\n"
          ],
          "name": "stdout"
        }
      ]
    },
    {
      "cell_type": "code",
      "metadata": {
        "id": "pS-26hvpfLWT"
      },
      "source": [
        "model_path = '/content/drive/MyDrive/self-driving-repository/lane_detection/enet_model'"
      ],
      "execution_count": null,
      "outputs": []
    },
    {
      "cell_type": "code",
      "metadata": {
        "id": "skqtcVDrfYM6"
      },
      "source": [
        "enet = tf.keras.models.load_model(model_path, compile = False)"
      ],
      "execution_count": null,
      "outputs": []
    },
    {
      "cell_type": "code",
      "metadata": {
        "id": "Kg7NtbqU6fNC"
      },
      "source": [
        "filename = '/content/darknet/data/training_data/4735.png'"
      ],
      "execution_count": null,
      "outputs": []
    },
    {
      "cell_type": "code",
      "metadata": {
        "colab": {
          "base_uri": "https://localhost:8080/",
          "height": 304
        },
        "id": "tOzkWLS56Y1k",
        "outputId": "7193dd73-27ae-4bd1-aa07-d1155c9da72d"
      },
      "source": [
        "img = tf.io.read_file(train_images_path + '4735.png')\n",
        "img = tf.image.decode_png(img, channels=3)\n",
        "img = tf.image.convert_image_dtype(img, tf.float32)\n",
        "img = tf.image.resize(img, [240, 320])\n",
        "enc_im, dec_im = enet(tf.expand_dims(img, axis=0))\n",
        "img = 1000*dec_im[0,:,:,0].numpy()\n",
        "img[img < 100] = 0\n",
        "img[img > 150] = 150\n",
        "lane_image = np.stack([img, img, img], axis = 2)\n",
        "plt.imshow(lane_image)"
      ],
      "execution_count": null,
      "outputs": [
        {
          "output_type": "stream",
          "text": [
            "Clipping input data to the valid range for imshow with RGB data ([0..1] for floats or [0..255] for integers).\n"
          ],
          "name": "stderr"
        },
        {
          "output_type": "execute_result",
          "data": {
            "text/plain": [
              "<matplotlib.image.AxesImage at 0x7eff4c8a44d0>"
            ]
          },
          "metadata": {
            "tags": []
          },
          "execution_count": 48
        },
        {
          "output_type": "display_data",
          "data": {
            "image/png": "[encoded data removed]",
            "text/plain": [
              "<Figure size 432x288 with 1 Axes>"
            ]
          },
          "metadata": {
            "tags": [],
            "needs_background": "light"
          }
        }
      ]
    },
    {
      "cell_type": "code",
      "metadata": {
        "id": "yebe2iINdOtN",
        "colab": {
          "base_uri": "https://localhost:8080/"
        },
        "outputId": "7f620100-9925-4ecb-c645-6b909c9ac20a"
      },
      "source": [
        "!cp /mydrive/self-driving-repository/lane_detection/enet_model_250.zip ../\n",
        "!unzip ../enet_model_250.zip -d /mydrive/self-driving-repository/lane_detection/"
      ],
      "execution_count": null,
      "outputs": [
        {
          "output_type": "stream",
          "text": [
            "Archive:  ../enet_model_250.zip\n",
            "replace /mydrive/self-driving-repository/lane_detection/enet_model/saved_model.pb? [y]es, [n]o, [A]ll, [N]one, [r]ename: y\n",
            "  inflating: /mydrive/self-driving-repository/lane_detection/enet_model/saved_model.pb  \n",
            "replace /mydrive/self-driving-repository/lane_detection/enet_model/variables/variables.data-00000-of-00001? [y]es, [n]o, [A]ll, [N]one, [r]ename: y\n",
            "  inflating: /mydrive/self-driving-repository/lane_detection/enet_model/variables/variables.data-00000-of-00001  \n",
            "replace /mydrive/self-driving-repository/lane_detection/enet_model/variables/variables.index? [y]es, [n]o, [A]ll, [N]one, [r]ename: y\n",
            "  inflating: /mydrive/self-driving-repository/lane_detection/enet_model/variables/variables.index  \n"
          ],
          "name": "stdout"
        }
      ]
    },
    {
      "cell_type": "code",
      "metadata": {
        "id": "GBx_87I7kWOD"
      },
      "source": [
        "# upload the obj.names and obj.data files to cloud VM from Google Drive\n",
        "!cp /mydrive/yolov3/obj.names ./data\n",
        "!cp /mydrive/yolov3/obj.data  ./data"
      ],
      "execution_count": null,
      "outputs": []
    },
    {
      "cell_type": "code",
      "metadata": {
        "id": "0EUPXdWLo4aE"
      },
      "source": [
        "def imShow(path):\n",
        "  import cv2\n",
        "  import matplotlib.pyplot as plt\n",
        "  %matplotlib inline\n",
        "\n",
        "  image = cv2.imread(path)\n",
        "  height, width = image.shape[:2]\n",
        "  resized_image = cv2.resize(image,(3*width, 3*height), interpolation = cv2.INTER_CUBIC)\n",
        "\n",
        "  fig = plt.gcf()\n",
        "  fig.set_size_inches(18, 10)\n",
        "  plt.axis(\"off\")\n",
        "  plt.imshow(cv2.cvtColor(resized_image, cv2.COLOR_BGR2RGB))\n",
        "  plt.show()"
      ],
      "execution_count": null,
      "outputs": []
    },
    {
      "cell_type": "code",
      "metadata": {
        "id": "vNciDaKy8hw2"
      },
      "source": [
        "def get_image(preds):\n",
        "  color_dct = {0 : [100,0,0], 1 : [0,100,0], 2 : [0,0,100], 3: [255,0,0]}\n",
        "  def get_Slices(x1,x2,w,h):\n",
        "    i_index = np.array([x1 + i -1 for i in range(w)], dtype = np.int32)\n",
        "    j_index = np.array([x2 + i -1 for i in range(h)], dtype = np.int32)\n",
        "    i_index = i_index[i_index < 320]\n",
        "    i_index = i_index[0 <= i_index]\n",
        "    j_index = j_index[j_index < 240]\n",
        "    j_index = j_index[0 <= j_index]\n",
        "    paint_index = np.meshgrid(j_index, i_index)\n",
        "    return paint_index\n",
        "\n",
        "\n",
        "\n",
        "  image = np.zeros([240, 320, 3])\n",
        "  for pred in preds:\n",
        "    color = color_dct[pred[0]]\n",
        "    paint_mesh = get_Slices(pred[1],pred[2],pred[3],pred[4])\n",
        "    image[paint_mesh] = color\n",
        "  return image\n"
      ],
      "execution_count": null,
      "outputs": []
    },
    {
      "cell_type": "code",
      "metadata": {
        "id": "nKu7ktIjYjpL"
      },
      "source": [
        "train_images = []\n",
        "for index, file in enumerate(train_image_paths):\n",
        "    image = cv2.imread(file)\n",
        "    if image is not None:\n",
        "        train_images.append(cv2.imread(file))"
      ],
      "execution_count": null,
      "outputs": []
    }
  ]
}